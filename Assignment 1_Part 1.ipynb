{
 "cells": [
  {
   "cell_type": "code",
   "execution_count": 10,
   "id": "b0600ce5",
   "metadata": {},
   "outputs": [],
   "source": [
    "// Question-1: Data Types\n",
    "\n",
    "// 5 -----------------> int (Integer)\n",
    "// 5.0 ---------------> float (Floating point number)\n",
    "// 5 > 1 -------------> bool (Boolean)\n",
    "// '5' ---------------> str (string)\n",
    "// 5 * 2 -------------> int (Integer)\n",
    "// '5' * 2 -----------> str (string)\n",
    "// '5' + '2' ---------> str (string)\n",
    "// 5 / 2 -------------> float (Floating point number)\n",
    "// 5 % 2 -------------> int (Integer)\n",
    "// {5, 2, 1} ---------> Array\n",
    "// 5 == 3 ------------> bool (Boolean)\n",
    "// Pi (the number) ---> float (Floating point number)\n"
   ]
  },
  {
   "cell_type": "code",
   "execution_count": 34,
   "id": "ff5be334",
   "metadata": {},
   "outputs": [],
   "source": [
    "// Question-2\n",
    "\n",
    "// Assigning string values into variables\n",
    "String example1 = \"Supercalifragilisticexpialidocious\";\n",
    "String example2 = \"Honorificabilitudinitatibus\";\n",
    "String example3 = \"Bababadalgharaghtakamminarronnkonn\";\n",
    "\n",
    "class StringLength  // Defining StringLength class\n",
    "{\n",
    "    public void LengthOfString(string example1)  // Defining LengthOfString Function\n",
    "    {\n",
    "        Console.WriteLine($\"Length of the string {example1} is : {example1.Length} \");  // Returning string length using example1.Length inbuilt function\n",
    "    }\n",
    "}\n",
    "\n",
    "class CheckSubStr  // Defining CheckSubStr class\n",
    "{\n",
    "    public void CheckSubstring(string example1)  // Defining CheckSubstring Function\n",
    "    {\n",
    "        String Check_Substring = \"ice\";  // Assigning 'ice' string into variable\n",
    "        Console.WriteLine($\"Is the string contains {Check_Substring} substring or not: {example1.Contains(Check_Substring)}\");  // Checking if string cointains ice or not\n",
    "    }\n",
    "}\n",
    "\n",
    "class MaxOfThree  // Defining MaxOfThree class\n",
    "{\n",
    "    public void MaximumOfThree(String example1, String example2, String example3)  // Defining MaximumOfThree Function\n",
    "    {\n",
    "        int Length_Of_first = example1.Length;\n",
    "        int Length_Of_Second = example2.Length;\n",
    "        int Length_Of_Third = example3.Length;\n",
    "        // Assigning length of three strings into variable\n",
    "        \n",
    "        if(Length_Of_first > Length_Of_Second)  // Checking if first string is greater than second or not\n",
    "        {\n",
    "            if(Length_Of_first > Length_Of_Third)  // Checking if first string is greater than third or not\n",
    "            {\n",
    "                Console.WriteLine($\"Word {example1} is the longest!\");\n",
    "            }\n",
    "            else if(Length_Of_first == Length_Of_Third)  // Checking if first string and third string are of same size\n",
    "            {\n",
    "                Console.WriteLine($\"Both Words {example1} and {example3} are of same size!\");\n",
    "            }\n",
    "            else\n",
    "            {\n",
    "                Console.WriteLine($\"Word {example3} is the longest!\");\n",
    "            }\n",
    "            \n",
    "        }\n",
    "        else if(Length_Of_Second > Length_Of_Third)  // Checking if second string is greater than third or not\n",
    "        {\n",
    "            Console.WriteLine($\"Word {example2} is the longest\");\n",
    "        }\n",
    "        else if(Length_Of_Second == Length_Of_Third)  // Checking if second string and third string are of same size\n",
    "        {\n",
    "            Console.WriteLine($\"Both Words {example2} and {example3} are of same size!\");\n",
    "        }\n",
    "        else  // Checking if third string is greater than second or not\n",
    "        {\n",
    "            Console.WriteLine($\"Word {example3} is the longest\");\n",
    "        }\n",
    "    }\n",
    "}"
   ]
  },
  {
   "cell_type": "code",
   "execution_count": 36,
   "id": "02a30809",
   "metadata": {},
   "outputs": [
    {
     "name": "stdout",
     "output_type": "stream",
     "text": [
      "<-------------------------------Part - A------------------------------->\n",
      "Length of the string Supercalifragilisticexpialidocious is : 34 \n",
      "<-------------------------------Part - B------------------------------->\n",
      "Is the string contains ice substring or not: True\n",
      "<-------------------------------Part - C------------------------------->\n",
      "Both Words Supercalifragilisticexpialidocious and Bababadalgharaghtakamminarronnkonn are of same size!\n",
      "<-------------------------------Part - D------------------------------->\n",
      "Sorted Composer is:\n",
      "Bartok\n",
      "Bellini\n",
      "Berlioz\n",
      "Bernstein\n",
      "Borodin\n",
      "Brian\n",
      "Buxtehude\n",
      "\n",
      "The First composer is: Bartok\n",
      "The last composer is: Buxtehude\n"
     ]
    }
   ],
   "source": [
    "// Question-2 Continued \n",
    "\n",
    "//Part -A\n",
    "Console.WriteLine(\"<-------------------------------Part - A------------------------------->\");\n",
    "StringLength Len = new StringLength();\n",
    "Len.LengthOfString(example1);  // Calling LengthOfString function and passing example1 string as a parameter\n",
    "\n",
    "//Part -B\n",
    "Console.WriteLine(\"<-------------------------------Part - B------------------------------->\");\n",
    "CheckSubStr NewStr = new CheckSubStr();\n",
    "NewStr.CheckSubstring(example1);  // Calling CheckSubstring function and passing example1 string as a parameter\n",
    "\n",
    "//Part -C\n",
    "Console.WriteLine(\"<-------------------------------Part - C------------------------------->\");\n",
    "MaxOfThree NewMax = new MaxOfThree();\n",
    "NewMax.MaximumOfThree(example1, example2, example3);  // Calling MaximumOfThree function and passing example1, example2, example3 string as a parameter\n",
    "\n",
    "//Part -D\n",
    "Console.WriteLine(\"<-------------------------------Part - D------------------------------->\");\n",
    "var composer = new SortedSet<string>();\n",
    "          composer.Add(\"Berlioz\");\n",
    "          composer.Add(\"Borodin\");\n",
    "          composer.Add(\"Brian\");\n",
    "          composer.Add(\"Bartok\");\n",
    "          composer.Add(\"Bellini\");\n",
    "          composer.Add(\"Buxtehude\");\n",
    "          composer.Add(\"Bernstein\");  // Assigning values in composer variable\n",
    "          Console.WriteLine(\"Sorted Composer is:\");\n",
    "          foreach (var comp in composer)\n",
    "          {\n",
    "               Console.WriteLine(comp);  // Sorting vales inside the composer variable\n",
    "          }\n",
    "Console.WriteLine();\n",
    "Console.WriteLine($\"The First composer is: {composer.First()}\");  // Printing the first value from composer\n",
    "Console.WriteLine($\"The last composer is: {composer.Last()}\");    // Printing the first value from composer\n"
   ]
  },
  {
   "cell_type": "code",
   "execution_count": 37,
   "id": "8c00a2e7",
   "metadata": {},
   "outputs": [],
   "source": [
    "// Question-3\n",
    "\n",
    "class FunctionEx  // Defining FunctionEx class\n",
    "{\n",
    "    public double triangleArea(double a, double b, double c)  // Defining triangleArea Function and passing a, b, c variables\n",
    "    {\n",
    "        double s = (a + b + c) / 2;\n",
    "        double temp = s * (s - a) * (s - b) * (s - c);\n",
    "        double area = Math.Sqrt(temp);  // Applying the formula \n",
    "        Console.WriteLine(area);\n",
    "        return area;\n",
    "    }\n",
    "}"
   ]
  },
  {
   "cell_type": "code",
   "execution_count": 38,
   "id": "6eb0d2a2",
   "metadata": {},
   "outputs": [
    {
     "name": "stdout",
     "output_type": "stream",
     "text": [
      "1.7320508075688772\r\n"
     ]
    }
   ],
   "source": [
    "// Question-3 Continued \n",
    "\n",
    "FunctionEx NewFun = new FunctionEx();\n",
    "NewFun.triangleArea(2,2,2);  // Calling triangleArea function and passing 2, 2, 2 as a parameter"
   ]
  },
  {
   "cell_type": "code",
   "execution_count": 39,
   "id": "485a8e4d",
   "metadata": {},
   "outputs": [],
   "source": [
    "// Question-4\n",
    "\n",
    "class separater  // Defining separater class\n",
    "{\n",
    "    public void SeperaterFun(int[] numbers)  // Defining LengthOfString Function\n",
    "    {\n",
    "        Console.WriteLine(\"The Even elements are:\");\n",
    "        for (int i = 0; i < numbers.Length; i++)\n",
    "        {\n",
    "            \n",
    "            if(numbers[i] % 2 == 0)  // Checking for even number\n",
    "            {\n",
    "                Console.Write($\"{numbers[i]}\\t\");\n",
    "            }\n",
    "        }\n",
    "        Console.WriteLine();\n",
    "        Console.WriteLine(\"The Odd elements are:\");\n",
    "        for (int i = 0; i < numbers.Length; i++)\n",
    "        {\n",
    "            \n",
    "            if(numbers[i] % 2 != 0)  // Checking for odd number\n",
    "            {\n",
    "                Console.Write($\"{numbers[i]}\\t\");\n",
    "            }\n",
    "        }\n",
    "    }\n",
    "}"
   ]
  },
  {
   "cell_type": "code",
   "execution_count": 40,
   "id": "1a624025",
   "metadata": {},
   "outputs": [
    {
     "name": "stdout",
     "output_type": "stream",
     "text": [
      "The Even elements are:\n",
      "42\t56\t32\t\n",
      "The Odd elements are:\n",
      "25\t47\t"
     ]
    }
   ],
   "source": [
    "// Question-4 Continued \n",
    "\n",
    "int[] element = new int[5];  \n",
    "      element[0] = 25;\n",
    "      element[1] = 47;\n",
    "      element[2] = 42;\n",
    "      element[3] = 56;\n",
    "      element[4] = 32;  // Assigning values inside element \n",
    "\n",
    "separater OddEven = new separater();\n",
    "OddEven.SeperaterFun(element);  // Calling SeperaterFun function and passing element as a parameter"
   ]
  },
  {
   "cell_type": "code",
   "execution_count": 49,
   "id": "7881c053",
   "metadata": {},
   "outputs": [],
   "source": [
    "// Question-5\n",
    "\n",
    "class Que5  // Defining Que5 class\n",
    "{\n",
    "    public bool inside(double x, double y, double x1, double y1, double x2, double y2)  // Defining inside Function and assigning variables as a parameter\n",
    "    {\n",
    "        if (x1 <= x && x <= x2 && y1 <= y && y <= y2)  \n",
    "        {\n",
    "            Console.WriteLine(\"True\");\n",
    "            return true;\n",
    "        }\n",
    "        else\n",
    "        {\n",
    "            Console.WriteLine(\"False\");\n",
    "            return false;\n",
    "        }\n",
    "    }\n",
    "}"
   ]
  },
  {
   "cell_type": "code",
   "execution_count": 50,
   "id": "40db3fe2",
   "metadata": {},
   "outputs": [
    {
     "name": "stdout",
     "output_type": "stream",
     "text": [
      "<-------------------------------Part - A------------------------------->\n",
      "True\n",
      "False\n",
      "<-------------------------------Part - B------------------------------->\n",
      "False\n",
      "Point Does not Lie in both rectangles\n"
     ]
    }
   ],
   "source": [
    "// Question-5 Continued \n",
    "\n",
    "Que5 temp = new Que5();\n",
    "\n",
    "Console.WriteLine(\"<-------------------------------Part - A------------------------------->\");\n",
    "temp.inside(1, 1, 0, 0, 2, 3);\n",
    "temp.inside(-1, -1, 0, 0, 2, 3); // Calling inside function and passing elements as a parameter\n",
    "\n",
    "Console.WriteLine(\"<-------------------------------Part - B------------------------------->\");\n",
    "if (temp.inside(1, 1, 0.3, 0.5, 1.1, 0.7) && temp.inside(1, 1, 0.5, 0.2, 1.1, 2))\n",
    "{\n",
    "    Console.WriteLine(\"Point Lies in both rectangles\");\n",
    "}\n",
    "else\n",
    "{\n",
    "    Console.WriteLine(\"Point Does not Lie in both rectangles\");\n",
    "}  "
   ]
  },
  {
   "cell_type": "code",
   "execution_count": null,
   "id": "f04ea18a",
   "metadata": {},
   "outputs": [],
   "source": []
  }
 ],
 "metadata": {
  "kernelspec": {
   "display_name": ".NET (C#)",
   "language": "C#",
   "name": ".net-csharp"
  },
  "language_info": {
   "file_extension": ".cs",
   "mimetype": "text/x-csharp",
   "name": "C#",
   "pygments_lexer": "csharp",
   "version": "8.0"
  }
 },
 "nbformat": 4,
 "nbformat_minor": 5
}
