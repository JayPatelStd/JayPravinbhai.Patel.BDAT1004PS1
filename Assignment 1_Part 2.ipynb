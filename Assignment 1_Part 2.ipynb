{
 "cells": [
  {
   "cell_type": "code",
   "execution_count": 1,
   "id": "a25589e8",
   "metadata": {},
   "outputs": [
    {
     "name": "stdout",
     "output_type": "stream",
     "text": [
      "Enter any word: Enter\n",
      "Pig-Latin format of Enter is : enterway\n"
     ]
    }
   ],
   "source": [
    "# Question-6 : Pig-Latin Form\n",
    "\n",
    "def pig(Name):  # Defining pig function\n",
    "    \n",
    "    vowels = ['a', 'e', 'i', 'o', 'u', 'A', 'E', 'I', 'O', 'U']  # Assigned the Vowels to the Vowels Variable\n",
    "    \n",
    "    if Name[0] in vowels:  \n",
    "        print(f\"Pig-Latin format of {Name} is : {Name[0].lower()}{Name[1:]}way\")  # It will take 1st letter from the name if its vowel and convert it into lower case then will print other words and add 'way' string\n",
    "    else:\n",
    "        print(f\"Pig-Latin format of {Name} is : {Name[1:]}{Name[0]}ay\")  # If its not vowel then Name[1:] will print whole name wihtout 0th index, then 0th index word will be printed, at last 'ay' string will be added\n",
    "\n",
    "Name = input(\"Enter any word: \")  # Taking input from the user\n",
    "pig(Name) # Passing the parameter inside pig() function"
   ]
  },
  {
   "cell_type": "code",
   "execution_count": 12,
   "id": "322d0db5",
   "metadata": {},
   "outputs": [
    {
     "name": "stdout",
     "output_type": "stream",
     "text": [
      "Total number of People having Bloodgroup A: 15\n",
      "Total number of People having Bloodgroup B: 1\n",
      "Total number of People having Bloodgroup AB: 13\n",
      "Total number of People having Bloodgroup O: 15\n",
      "Total number of People having Bloodgroup OO: 0\n"
     ]
    }
   ],
   "source": [
    "# Question-7\n",
    "infile = open('bloodtype.txt', 'r')  # Opening the bloodtype txt file and gave access of reading the file\n",
    "\n",
    "def bldcount(infile):  # Defining the bldcount function and passing the infile variable inside\n",
    "\n",
    "    for x in infile:  # Defining the for loop with x variable\n",
    "        print(f\"Total number of People having Bloodgroup A: {x.count('A ')}\")  # Function x.count('A ') will count every bloodcount type 'A ' txt from the file and print the count of it\n",
    "        print(f\"Total number of People having Bloodgroup B: {x.count(' B')}\")  # Function x.count(' B') will count every bloodcount type ' B' txt from the file and print the count of it\n",
    "        print(f\"Total number of People having Bloodgroup AB: {x.count('AB')}\") # Function x.count('AB') will count every bloodcount type 'AB' txt from the file and print the count of it\n",
    "        print(f\"Total number of People having Bloodgroup O: {x.count('O ')}\")  # Function x.count('O ') will count every bloodcount type 'O ' txt from the file and print the count of it\n",
    "        print(f\"Total number of People having Bloodgroup OO: {x.count('OO')}\") # Function x.count('OO') will count every bloodcount type 'OO' txt from the file and print the count of it\n",
    "        \n",
    "bldcount(infile)  # Passing the parameter inside bldcount() function"
   ]
  },
  {
   "cell_type": "code",
   "execution_count": 3,
   "id": "4dad0ee2",
   "metadata": {},
   "outputs": [
    {
     "name": "stdout",
     "output_type": "stream",
     "text": [
      "Currency that represents INR is:- Indian Rupee\n",
      "\n",
      "Conversion of 100 INR into US dollars is:- 1.77643\n"
     ]
    }
   ],
   "source": [
    "# Question-8\n",
    "infile = open('currencies.txt', 'r')  # Opening the currencies txt file and gave access of reading the file\n",
    "\n",
    "def curconv(abbreviation, amount):  # Defining the curconv function and passing the infile variable inside\n",
    "    \n",
    "    lines = infile.readlines()  # Reading each lines of file and store it in lines variable\n",
    "    i = 0\n",
    "    for i in range(len(lines)):  # Defining the for loop with range of line length \n",
    "        if abbreviation == (lines[i][:3]):  # Defining the if loop for abbreviation variable with lines[i][:3] which will take each line one by one and will take first three words\n",
    "            print(f\"Currency that represents {abbreviation} is:- {lines[i][14:]}\")  # Will print the characters from index 14\n",
    "            print(f\"Conversion of {amount} {abbreviation} into US dollars is:- {float(lines[i][5:13]) * amount}\")  #will connvert it into dollars by taking currency rates from the file from index 5 to 12 and multiply it with amount which will be passed into function \n",
    "        \n",
    "curconv('INR', 100)  # Passing the parameters inside curconv() function"
   ]
  },
  {
   "cell_type": "code",
   "execution_count": 5,
   "id": "fd5b656a",
   "metadata": {},
   "outputs": [],
   "source": [
    "# Question-9\n",
    "\n",
    "# Objective 1: Trying to add incompatible variables, as in adding 6 + ‘a’\n",
    "# Error Type: SyntaxError\n",
    "\n",
    "# Objective 2: Referring to the 12th item of a list that has only 10 items\n",
    "# Error Type: IndexError\n",
    "\n",
    "# Objective 3: Using a value that is out of range for a function’s input, such as calling math.sqrt(-1.0)\n",
    "# Error Type: Math Domain Error\n",
    "\n",
    "# Objective 4: Using an undeclared variable, such as print(x) when x has not been defined \n",
    "# Error Type: NameError\n",
    "\n",
    "# Objective 5: Trying to open a file that does not exist, such as mistyping the file name or looking in the wrong directory.\n",
    "# Error Type: FileNotFoundError\n"
   ]
  },
  {
   "cell_type": "code",
   "execution_count": 7,
   "id": "9a3b8d1c",
   "metadata": {},
   "outputs": [
    {
     "name": "stdout",
     "output_type": "stream",
     "text": [
      "List of integers for input string (The quick red fox got bored and went home.) is:-\n",
      "dict_values([1, 1, 1, 3, 5, 1, 1, 2, 1, 0, 1, 0, 1, 2, 4, 0, 1, 2, 0, 3, 1, 0, 1, 1, 0, 0])\n",
      "\n",
      "List of integers for input string (apple) is:-\n",
      "dict_values([1, 0, 0, 0, 1, 0, 0, 0, 0, 0, 0, 1, 0, 0, 0, 2, 0, 0, 0, 0, 0, 0, 0, 0, 0, 0])\n",
      "\n"
     ]
    }
   ],
   "source": [
    "# Question-10\n",
    "def frequencies(temp):  # Defining the frequencies function and passing the temp variable inside\n",
    "    \n",
    "    letters = {'a' : 0, 'b' : 0, 'c' : 0, 'd' : 0, 'e' : 0, 'f' : 0, 'g' : 0, 'h' : 0, 'i' : 0, 'j' : 0, 'k' : 0, 'l' : 0, \n",
    "               'm' : 0, 'n' : 0, 'o' : 0, 'p' : 0, 'q' : 0, 'r' : 0, 's' : 0, 't' : 0, 'u' : 0, 'v' : 0, 'w' : 0, 'x' : 0,\n",
    "               'y' : 0, 'z' : 0}  # Defining dictionay of all letters and storing it in letters variables\n",
    "    \n",
    "    for item in temp.lower():  # Defining for loop with item and taking lower case from temp variablr\n",
    "        if item in letters:\n",
    "            letters[item] += 1  # Counting letters\n",
    "        \n",
    "    value_pair = letters.values()\n",
    "    print(f\"List of integers for input string ({temp}) is:-\")\n",
    "    print(value_pair)  # Printing Value_Pair from the above loop\n",
    "    print()\n",
    "        \n",
    "frequencies('The quick red fox got bored and went home.')\n",
    "frequencies('apple')   # Passing the parameter inside frequencies() function\n"
   ]
  }
 ],
 "metadata": {
  "kernelspec": {
   "display_name": "Python 3 (ipykernel)",
   "language": "python",
   "name": "python3"
  },
  "language_info": {
   "codemirror_mode": {
    "name": "ipython",
    "version": 3
   },
   "file_extension": ".py",
   "mimetype": "text/x-python",
   "name": "python",
   "nbconvert_exporter": "python",
   "pygments_lexer": "ipython3",
   "version": "3.9.13"
  }
 },
 "nbformat": 4,
 "nbformat_minor": 5
}
